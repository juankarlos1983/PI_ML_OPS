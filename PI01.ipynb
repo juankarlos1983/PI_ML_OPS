{
 "cells": [
  {
   "cell_type": "code",
   "execution_count": 93,
   "metadata": {},
   "outputs": [],
   "source": [
    "import pandas as pd\n",
    "import operator\n",
    "import random"
   ]
  },
  {
   "cell_type": "code",
   "execution_count": 46,
   "metadata": {},
   "outputs": [
    {
     "name": "stderr",
     "output_type": "stream",
     "text": [
      "C:\\Users\\user\\AppData\\Local\\Temp\\ipykernel_10028\\259290390.py:1: DtypeWarning: Columns (10) have mixed types. Specify dtype option on import or set low_memory=False.\n",
      "  df = pd.read_csv('movies_dataset.csv')\n"
     ]
    }
   ],
   "source": [
    "df = pd.read_csv('movies_dataset.csv')"
   ]
  },
  {
   "cell_type": "code",
   "execution_count": 47,
   "metadata": {},
   "outputs": [],
   "source": [
    "#df['belongs_to_collection'] \n",
    "#df['genres']\n",
    "#df['spoken_languages']\n",
    "#df['production_companies']\n",
    "#df['production_countries'] \n"
   ]
  },
  {
   "cell_type": "code",
   "execution_count": 48,
   "metadata": {},
   "outputs": [],
   "source": [
    "belongs_to_collection = {}\n",
    "belongs_to_collection['id'] = []\n",
    "belongs_to_collection['name'] = []\n",
    "belongs_to_collection['poster_path'] = []\n",
    "belongs_to_collection['backdrop_path'] = []\n",
    "for x in df.belongs_to_collection:\n",
    "    try:\n",
    "        belongs_to_collection['id'].append(eval(x)['id'])\n",
    "        belongs_to_collection['name'].append(eval(x)['name'])\n",
    "        belongs_to_collection['poster_path'].append(eval(x)['poster_path'])\n",
    "        belongs_to_collection['backdrop_path'].append(eval(x)['backdrop_path'])\n",
    "    except:\n",
    "        belongs_to_collection['id'].append(x)\n",
    "        belongs_to_collection['name'].append(x)\n",
    "        belongs_to_collection['poster_path'].append(x)\n",
    "        belongs_to_collection['backdrop_path'].append(x)\n",
    "bc = pd.DataFrame(belongs_to_collection)"
   ]
  },
  {
   "cell_type": "code",
   "execution_count": 49,
   "metadata": {},
   "outputs": [],
   "source": [
    "genres = {}\n",
    "genres['id'] = []\n",
    "genres['name'] = []\n",
    "for x in df.genres:\n",
    "    if str(x) == 'nan':\n",
    "        genres['id'].append(x)\n",
    "        genres['name'].append(x)\n",
    "    if len(eval(x)) >1 or len(eval(x)) == 0:\n",
    "        genres['id'].append([x['id'] for x in eval(x)])\n",
    "        genres['name'].append([x['name'] for x in eval(x)])\n",
    "    else:\n",
    "        for col in eval(x):\n",
    "            genres['id'].append([col['id']])\n",
    "            genres['name'].append([col['name']])\n",
    "ge = pd.DataFrame(genres)"
   ]
  },
  {
   "cell_type": "code",
   "execution_count": 50,
   "metadata": {},
   "outputs": [],
   "source": [
    "spoken_languages = {}\n",
    "spoken_languages['iso_639_1'] = []\n",
    "spoken_languages['name'] = []\n",
    "for x in df.spoken_languages:\n",
    "    if str(x) == 'nan':\n",
    "        spoken_languages['iso_639_1'].append(x)\n",
    "        spoken_languages['name'].append(x)\n",
    "    elif len(eval(x)) > 1 or len(eval(x)) == 0:\n",
    "        spoken_languages['iso_639_1'].append([x['iso_639_1'] for x in eval(x)])\n",
    "        spoken_languages['name'].append([x['name'] for x in eval(x)])\n",
    "    else:\n",
    "        for col in eval(x):\n",
    "            spoken_languages['iso_639_1'].append(col['iso_639_1'])\n",
    "            spoken_languages['name'].append(col['name'])\n",
    "sl = pd.DataFrame(spoken_languages)"
   ]
  },
  {
   "cell_type": "code",
   "execution_count": 51,
   "metadata": {},
   "outputs": [],
   "source": [
    "production_companies = {}\n",
    "production_companies['name'] = []\n",
    "production_companies['id'] = []\n",
    "for x in df.production_companies:\n",
    "    if  str(x) == 'nan' or type(eval(x)) != list:\n",
    "        production_companies['name'].append(x)\n",
    "        production_companies['id'].append(x)\n",
    "    elif len(eval(x)) > 1 or len(eval(x)) == 0:\n",
    "        production_companies['name'].append([x['name'] for x in eval(x)])\n",
    "        production_companies['id'].append([x['id'] for x in eval(x)])\n",
    "    else:\n",
    "        for col in eval(x):\n",
    "            production_companies['name'].append(col['name'])\n",
    "            production_companies['id'].append(col['id'])\n",
    "pc = pd.DataFrame(production_companies)\n",
    "      "
   ]
  },
  {
   "cell_type": "code",
   "execution_count": 52,
   "metadata": {},
   "outputs": [],
   "source": [
    "production_countries = {}\n",
    "production_countries['iso_3166_1'] = []\n",
    "production_countries['name'] = []\n",
    "for x in df.production_countries:\n",
    "    if  str(x) == 'nan' or type(eval(x)) != list:\n",
    "        production_countries['iso_3166_1'].append(str(x))\n",
    "        production_countries['name'].append(str(x))\n",
    "    elif len(eval(x)) > 1 or len(eval(x)) == 0:\n",
    "        production_countries['iso_3166_1'].append([x['iso_3166_1'] for x in eval(x)])\n",
    "        production_countries['name'].append([x['name'] for x in eval(x)])\n",
    "    else:\n",
    "        for col in eval(x):\n",
    "            production_countries['iso_3166_1'].append(col['iso_3166_1'])\n",
    "            production_countries['name'].append(col['name'])\n",
    "countries = pd.DataFrame(production_countries)"
   ]
  },
  {
   "cell_type": "code",
   "execution_count": 53,
   "metadata": {},
   "outputs": [],
   "source": [
    "bc = bc.rename(columns={'id':'id_belongs_to_collection'})\n",
    "bc['id_genres'] = ge.id\n",
    "bc['name_genres'] = ge.name\n",
    "bc['iso_639_1'] = sl.iso_639_1\n",
    "bc['name_spoken_languages'] = sl.name\n",
    "bc['name_production_companies'] = pc.name\n",
    "bc['id_production_companies'] = pc.id\n",
    "bc['iso_3166_1_production_countries'] = countries.iso_3166_1\n",
    "bc['name_production_countries'] = countries.name"
   ]
  },
  {
   "cell_type": "code",
   "execution_count": 54,
   "metadata": {},
   "outputs": [],
   "source": [
    "df = df.drop(['belongs_to_collection','genres','spoken_languages','production_companies','production_countries'],axis=1)"
   ]
  },
  {
   "cell_type": "code",
   "execution_count": 55,
   "metadata": {},
   "outputs": [],
   "source": [
    "for x in bc.columns:\n",
    "    df[x] = bc[x]"
   ]
  },
  {
   "cell_type": "code",
   "execution_count": 56,
   "metadata": {},
   "outputs": [],
   "source": [
    "#Los valores nulos de los campos revenue, budget deben ser rellenados por el número 0\n",
    "#Los valores nulos del campo release_date deben eliminarse. \n",
    "df.dropna(subset=['release_date'])\n",
    "\n",
    "#De haber fechas, deberán tener el formato AAAA-mm-dd, \n",
    "#además deberán crear la columna release_year donde extraerán el año de la fecha de estreno\n",
    "\n",
    "df['release_year'] = df.release_date.apply(lambda x: \"\".join(x.split('-'))[0:4]  if str(x) != 'nan' else str(x))\n",
    "df.release_date    = df.release_date.apply(lambda x: \"\".join(x.split('-'))       if str(x) != 'nan' else str(x))"
   ]
  },
  {
   "cell_type": "code",
   "execution_count": 57,
   "metadata": {},
   "outputs": [
    {
     "name": "stderr",
     "output_type": "stream",
     "text": [
      "C:\\Users\\user\\AppData\\Local\\Temp\\ipykernel_10028\\2631908138.py:1: FutureWarning: iteritems is deprecated and will be removed in a future version. Use .items instead.\n",
      "  for index,serie in df.release_date.iteritems():\n"
     ]
    }
   ],
   "source": [
    "for index,serie in df.release_date.iteritems():\n",
    "    try:\n",
    "        df.at[index,'release_date'] = pd.to_datetime(serie,format='%Y%m%d')\n",
    "    except:\n",
    "        df.at[index,'release_date'] = serie"
   ]
  },
  {
   "cell_type": "code",
   "execution_count": 58,
   "metadata": {},
   "outputs": [],
   "source": [
    "#Crear la columna con el retorno de inversión, llamada return con los campos revenue y budget, \n",
    "#dividiendo estas dos últimas revenue / budget, cuando no hay datos disponibles para calcularlo, \n",
    "#deberá tomar el valor 0.\n",
    "df['return'] = 0\n",
    "for i,s in df.iterrows():\n",
    "    try:\n",
    "        df.at[i,'return'] = float(df['revenue'][i])/float(df['budget'][i])\n",
    "    except:\n",
    "        pass\n"
   ]
  },
  {
   "cell_type": "code",
   "execution_count": 59,
   "metadata": {},
   "outputs": [],
   "source": [
    "#Eliminar las columnas que no serán utilizadas, video,imdb_id,adult,original_title,vote_count,poster_path y homepage.\n",
    "df = df.drop(['video','imdb_id','adult','original_title','poster_path','homepage'],axis=1)"
   ]
  },
  {
   "cell_type": "code",
   "execution_count": 108,
   "metadata": {},
   "outputs": [],
   "source": [
    "df.to_csv('peliculas')"
   ]
  },
  {
   "cell_type": "code",
   "execution_count": 110,
   "metadata": {},
   "outputs": [
    {
     "data": {
      "text/plain": [
       "0                                  Pixar Animation Studios\n",
       "1        [TriStar Pictures, Teitler Film, Interscope Co...\n",
       "2                           [Warner Bros., Lancaster Gate]\n",
       "3                   Twentieth Century Fox Film Corporation\n",
       "4             [Sandollar Productions, Touchstone Pictures]\n",
       "                               ...                        \n",
       "45461                                                   []\n",
       "45462                                          Sine Olivia\n",
       "45463                              American World Pictures\n",
       "45464                                            Yermoliev\n",
       "45465                                                   []\n",
       "Name: name_production_companies, Length: 45466, dtype: object"
      ]
     },
     "execution_count": 110,
     "metadata": {},
     "output_type": "execute_result"
    }
   ],
   "source": [
    "df['name_production_countries']\n",
    "df['name_production_companies']"
   ]
  },
  {
   "cell_type": "code",
   "execution_count": 66,
   "metadata": {},
   "outputs": [],
   "source": [
    "#SISTEMA DE RECOMENDACION\n",
    "# Function to compute the IMDB weighted rating for each movie\n",
    "m = df['vote_count'].quantile(0.80)\n",
    "q_movies = df[(df['runtime'] >= 45) & (df['runtime'] <= 300)]\n",
    "q_movies = q_movies[q_movies['vote_count'] >= m]\n",
    "C = df['vote_average'].mean()\n",
    "def weighted_rating(x, m=m, C=C):\n",
    "    v = x['vote_count']\n",
    "    R = x['vote_average']\n",
    "    # Compute the weighted score\n",
    "    return (v/(v+m) * R) + (m/(m+v) * C)\n",
    "# Compute the score using the weighted_rating function defined above\n",
    "q_movies['score'] = q_movies.apply(weighted_rating, axis=1)\n"
   ]
  },
  {
   "cell_type": "code",
   "execution_count": 104,
   "metadata": {},
   "outputs": [
    {
     "data": {
      "text/plain": [
       "['Epic',\n",
       " 'A Goofy Movie',\n",
       " 'The Smurfs 2',\n",
       " \"Lady and the Tramp II: Scamp's Adventure\",\n",
       " 'Brave']"
      ]
     },
     "execution_count": 104,
     "metadata": {},
     "output_type": "execute_result"
    }
   ],
   "source": [
    "generos = []\n",
    "peliculas = []\n",
    "for x in list(q_movies[q_movies.title.str.contains('Panic')].name_genres):\n",
    "    for gen in x:\n",
    "        generos.append(gen)\n",
    "for index,serie in q_movies.iterrows():\n",
    "    if len(set(generos).intersection(set(serie[17]))) > 3:\n",
    "        peliculas.append(q_movies.title[index])\n",
    "random.shuffle(peliculas)\n",
    "peliculas[0:5]"
   ]
  }
 ],
 "metadata": {
  "kernelspec": {
   "display_name": "Python 3",
   "language": "python",
   "name": "python3"
  },
  "language_info": {
   "codemirror_mode": {
    "name": "ipython",
    "version": 3
   },
   "file_extension": ".py",
   "mimetype": "text/x-python",
   "name": "python",
   "nbconvert_exporter": "python",
   "pygments_lexer": "ipython3",
   "version": "3.11.2"
  },
  "orig_nbformat": 4
 },
 "nbformat": 4,
 "nbformat_minor": 2
}
